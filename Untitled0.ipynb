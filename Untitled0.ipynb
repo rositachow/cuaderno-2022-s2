{
  "nbformat": 4,
  "nbformat_minor": 0,
  "metadata": {
    "colab": {
      "name": "Untitled0.ipynb",
      "provenance": [],
      "authorship_tag": "ABX9TyP+oD8kwLCss0TY4i/mOC/9",
      "include_colab_link": true
    },
    "kernelspec": {
      "name": "python3",
      "display_name": "Python 3"
    },
    "language_info": {
      "name": "python"
    }
  },
  "cells": [
    {
      "cell_type": "markdown",
      "metadata": {
        "id": "view-in-github",
        "colab_type": "text"
      },
      "source": [
        "<a href=\"https://colab.research.google.com/github/rositachow/cuaderno-2022-s2/blob/main/Untitled0.ipynb\" target=\"_parent\"><img src=\"https://colab.research.google.com/assets/colab-badge.svg\" alt=\"Open In Colab\"/></a>"
      ]
    },
    {
      "cell_type": "code",
      "execution_count": null,
      "metadata": {
        "id": "ZxjQQEeoTwsE"
      },
      "outputs": [],
      "source": [
        "##contador de digitos\n",
        "usando pseint crear un diagrama de flujomy pseudocodigo para el algoritmo de contarDigitos"
      ]
    },
    {
      "cell_type": "markdown",
      "source": [
        "# Nueva sección"
      ],
      "metadata": {
        "id": "zMQp-s_0W4HM"
      }
    },
    {
      "cell_type": "markdown",
      "source": [
        "##diagrama de flujo"
      ],
      "metadata": {
        "id": "2kGEheaTXNAn"
      }
    },
    {
      "cell_type": "markdown",
      "source": [
        "## pseudocodigo"
      ],
      "metadata": {
        "id": "bKRFFg4MW_is"
      }
    }
  ]
}