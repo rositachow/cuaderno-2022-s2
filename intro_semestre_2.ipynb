{
  "nbformat": 4,
  "nbformat_minor": 0,
  "metadata": {
    "colab": {
      "name": "intro semestre 2",
      "provenance": [],
      "toc_visible": true,
      "authorship_tag": "ABX9TyN8OxnWQppcuXk6aq3EjsLW",
      "include_colab_link": true
    },
    "kernelspec": {
      "name": "python3",
      "display_name": "Python 3"
    },
    "language_info": {
      "name": "python"
    }
  },
  "cells": [
    {
      "cell_type": "markdown",
      "metadata": {
        "id": "view-in-github",
        "colab_type": "text"
      },
      "source": [
        "<a href=\"https://colab.research.google.com/github/rositachow/cuaderno-2022-s2/blob/main/intro_semestre_2.ipynb\" target=\"_parent\"><img src=\"https://colab.research.google.com/assets/colab-badge.svg\" alt=\"Open In Colab\"/></a>"
      ]
    },
    {
      "cell_type": "markdown",
      "source": [
        "# Semana 2"
      ],
      "metadata": {
        "id": "ddy42n-wkTjK"
      }
    },
    {
      "cell_type": "markdown",
      "source": [
        "## Promedio de 4 numeros"
      ],
      "metadata": {
        "id": "Jz-mu4dekoLg"
      }
    },
    {
      "cell_type": "markdown",
      "source": [
        "### Diagrama\n",
        "\n",
        "![ejercicio 1 .png](data:image/png;base64,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)"
      ],
      "metadata": {
        "id": "wqvZFJmIk-_u"
      }
    },
    {
      "cell_type": "markdown",
      "source": [
        "### Pseudocodigo \n",
        "\n",
        "\n",
        "\n",
        "```\n",
        "Algoritmo Promedio\n",
        "\tLeer N1\n",
        "\tLeer N2\n",
        "\tLeer N3\n",
        "\tLeer N4\n",
        "\tResultado = (N1+N2+N3+N4)/4\n",
        "\tEscribir Resultado\n",
        "FinAlgoritmo\n",
        "\n",
        "```\n",
        "\n"
      ],
      "metadata": {
        "id": "eaQRMZYomGCB"
      }
    },
    {
      "cell_type": "markdown",
      "source": [
        "### Codigo\n"
      ],
      "metadata": {
        "id": "dCgD5zHAmYPl"
      }
    },
    {
      "cell_type": "code",
      "source": [
        "\"\"\"\n",
        "nombre: Ejercicio 1\n",
        "Entrada: cuatro entradas\n",
        "Salida:\n",
        "Restricciones: solo numeros enteros \n",
        "\n",
        "\"\"\"\n",
        "\n",
        "def ejercicio1():\n",
        "    N1 = int(input())\n",
        "    N2 = int(input())\n",
        "    N3 = int(input())\n",
        "    N4 = int(input())\n",
        "\n",
        "    result = (N1 + N2 + N3 + N4) / 4\n",
        "\n",
        "    return result\n",
        "\n",
        "\n",
        "ejercicio1()"
      ],
      "metadata": {
        "colab": {
          "base_uri": "https://localhost:8080/"
        },
        "id": "aXmO_pLamWhs",
        "outputId": "05cea1c7-7c2c-4b62-9152-adaa30c1360e"
      },
      "execution_count": 1,
      "outputs": [
        {
          "name": "stdout",
          "output_type": "stream",
          "text": [
            "2\n",
            "4\n",
            "5\n",
            "6\n"
          ]
        },
        {
          "output_type": "execute_result",
          "data": {
            "text/plain": [
              "4.25"
            ]
          },
          "metadata": {},
          "execution_count": 1
        }
      ]
    },
    {
      "cell_type": "markdown",
      "source": [
        "# Ejercicio 2\n",
        "\n",
        "\n"
      ],
      "metadata": {
        "id": "l5fp2qv63I5k"
      }
    },
    {
      "cell_type": "markdown",
      "source": [
        "### Calcular volumen o caja"
      ],
      "metadata": {
        "id": "shpoM9zB3Rmy"
      }
    },
    {
      "cell_type": "markdown",
      "source": [
        "### Diagrama\n",
        "\n",
        "\n"
      ],
      "metadata": {
        "id": "Cxq28vtX3kuc"
      }
    },
    {
      "cell_type": "markdown",
      "source": [
        ""
      ],
      "metadata": {
        "id": "1LcA-aTM6eQK"
      }
    }
  ]
}